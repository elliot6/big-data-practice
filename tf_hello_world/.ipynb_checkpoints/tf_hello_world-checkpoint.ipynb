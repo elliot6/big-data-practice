{
 "cells": [
  {
   "cell_type": "code",
   "execution_count": 53,
   "metadata": {},
   "outputs": [],
   "source": [
    "import tensorflow as tf\n",
    "import pandas as pd\n",
    "\n",
    "from matplotlib import pyplot as plt"
   ]
  },
  {
   "cell_type": "code",
   "execution_count": 54,
   "metadata": {},
   "outputs": [
    {
     "data": {
      "text/plain": [
       "'2.0.0'"
      ]
     },
     "execution_count": 54,
     "metadata": {},
     "output_type": "execute_result"
    }
   ],
   "source": [
    "tf.__version__"
   ]
  },
  {
   "cell_type": "code",
   "execution_count": 46,
   "metadata": {},
   "outputs": [],
   "source": [
    "col_names = ['sepal_length', 'sepal_width', 'petal_length', 'petal_width', 'species']\n",
    "\n",
    "train = pd.read_csv('iris_training.csv')\n",
    "test = pd.read_csv('iris_test.csv')\n",
    "\n",
    "train.columns = col_names\n",
    "test.columns = col_names"
   ]
  },
  {
   "cell_type": "code",
   "execution_count": 47,
   "metadata": {},
   "outputs": [],
   "source": [
    "train['species'] = train['species'].map({0: [1, 0, 0],\n",
    "                                         1: [0, 1, 0],\n",
    "                                         2: [0, 0, 1]})\n",
    "\n",
    "test['species'] = test['species'].map({0: [1, 0, 0],\n",
    "                                       1: [0, 1, 0],\n",
    "                                       2: [0, 0, 1]})"
   ]
  },
  {
   "cell_type": "code",
   "execution_count": 48,
   "metadata": {},
   "outputs": [],
   "source": [
    "train_x = train[['sepal_length', 'sepal_width', 'petal_length', 'petal_width']].copy()\n",
    "train_y = train[['species']].copy()\n",
    "\n",
    "test_x = test[['sepal_length', 'sepal_width', 'petal_length', 'petal_width']].copy()\n",
    "test_y = test[['species']].copy()"
   ]
  },
  {
   "cell_type": "code",
   "execution_count": null,
   "metadata": {},
   "outputs": [],
   "source": []
  }
 ],
 "metadata": {
  "kernelspec": {
   "display_name": "Python 3",
   "language": "python",
   "name": "python3"
  },
  "language_info": {
   "codemirror_mode": {
    "name": "ipython",
    "version": 3
   },
   "file_extension": ".py",
   "mimetype": "text/x-python",
   "name": "python",
   "nbconvert_exporter": "python",
   "pygments_lexer": "ipython3",
   "version": "3.7.6"
  }
 },
 "nbformat": 4,
 "nbformat_minor": 4
}
